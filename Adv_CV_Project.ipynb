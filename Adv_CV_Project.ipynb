{
  "nbformat": 4,
  "nbformat_minor": 0,
  "metadata": {
    "colab": {
      "provenance": [],
      "toc_visible": true,
      "authorship_tag": "ABX9TyMf37v0ZfQ0WtX7EURmu9d2",
      "include_colab_link": true
    },
    "kernelspec": {
      "name": "python3",
      "display_name": "Python 3"
    },
    "language_info": {
      "name": "python"
    }
  },
  "cells": [
    {
      "cell_type": "markdown",
      "metadata": {
        "id": "view-in-github",
        "colab_type": "text"
      },
      "source": [
        "<a href=\"https://colab.research.google.com/github/ksushrut/CoinClassifier/blob/main/Adv_CV_Project.ipynb\" target=\"_parent\"><img src=\"https://colab.research.google.com/assets/colab-badge.svg\" alt=\"Open In Colab\"/></a>"
      ]
    },
    {
      "cell_type": "markdown",
      "source": [
        "# Coin Classification\n",
        "\n",
        "## Guidelines\n",
        "1) Please import packages in the import section only.\n",
        "\n",
        "2) Use sensible variable names. If possible try to describe the use of the variables in the variable description section.\n",
        "\n",
        "3) Github commits and branches?\n",
        "\n",
        "4) set device to gpu. No cpu!\n"
      ],
      "metadata": {
        "id": "qSOoQzSu6Zea"
      }
    },
    {
      "cell_type": "markdown",
      "source": [
        "# Variable Description:\n",
        "\n",
        "##### Describe the essential variables here. preferable datatype and use. This is to make sure we understand the code we are using\n",
        "eg: Xtrain: tensor, stores images for training"
      ],
      "metadata": {
        "id": "0DkGkkvg8jRG"
      }
    },
    {
      "cell_type": "markdown",
      "source": [
        "# Import packages here"
      ],
      "metadata": {
        "id": "5HW7QYX-9EAN"
      }
    },
    {
      "cell_type": "code",
      "source": [
        "# write only import statements here\n",
        "import torch"
      ],
      "metadata": {
        "id": "PIlUe-YW9KLw"
      },
      "execution_count": null,
      "outputs": []
    }
  ]
}